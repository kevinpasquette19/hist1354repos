{
 "cells": [
  {
   "cell_type": "code",
   "id": "initial_id",
   "metadata": {
    "collapsed": true,
    "jupyter": {
     "is_executing": true
    }
   },
   "source": [
    "import pandas as pd\n",
    "import matplotlib.pyplot as plt\n",
    "import seaborn as sns\n",
    "\n",
    "econ_data = pd.read_excel(\"~/Downloads/proj_data.xlsx\")\n",
    "\n",
    "econ_data.head(10)\n"
   ],
   "outputs": [],
   "execution_count": null
  },
  {
   "metadata": {
    "ExecuteTime": {
     "end_time": "2024-10-27T18:37:37.806062Z",
     "start_time": "2024-10-27T18:37:37.701169Z"
    }
   },
   "cell_type": "code",
   "source": [
    "Year = []\n",
    "R_GNP = []\n",
    "\n",
    "for year in econ_data.year:\n",
    "    Year.append(year)\n",
    "    \n",
    "#print(Year)\n",
    "   \n",
    "Year = list(set(Year))\n",
    "\n",
    "print(Year)\n",
    "\n",
    "gnp_values = econ_data.groupby('year')['RGNP72'].sum()\n",
    "\n",
    "for values in gnp_values:\n",
    "    round(values, 2)\n",
    "    R_GNP.append(values)\n",
    "        \n",
    "print(R_GNP)\n",
    "\n",
    "gnp_values.plot(kind='line')"
   ],
   "id": "7e055c4460d202ea",
   "outputs": [
    {
     "name": "stdout",
     "output_type": "stream",
     "text": [
      "[1875, 1876, 1877, 1878, 1879, 1880, 1881, 1882, 1883, 1884, 1885, 1886, 1887, 1888, 1889, 1890, 1891, 1892, 1893, 1894, 1895, 1896, 1897, 1898, 1899, 1900, 1901, 1902, 1903, 1904, 1905, 1906, 1907, 1908, 1909, 1910, 1911, 1912, 1913, 1914, 1915, 1916, 1917, 1918, 1919, 1920, 1921, 1922, 1923, 1924, 1925, 1926, 1927, 1928, 1929, 1930, 1931, 1932, 1933, 1934, 1935, 1936, 1937, 1938, 1939, 1940, 1941, 1942, 1943, 1944, 1945, 1946, 1947, 1948, 1949, 1950, 1951, 1952, 1953, 1954, 1955, 1956, 1957, 1958, 1959, 1960, 1961, 1962, 1963, 1964, 1965, 1966, 1967, 1968, 1969, 1970, 1971, 1972, 1973, 1974, 1975, 1976, 1977, 1978, 1979, 1980, 1981, 1982, 1983]\n",
      "[174.29, 184.75, 198.16, 211.8, 233.77, 266.95, 271.9, 284.49, 281.14, 288.71000000000004, 289.78, 303.86, 313.19, 305.74, 315.74, 339.28, 354.62, 388.77, 369.44, 359.68, 402.22, 393.76, 431.46, 439.82, 481.59000000000003, 494.21, 552.21, 556.52, 584.41, 576.84, 620.1600000000001, 691.9, 702.44, 644.91, 723.72, 743.92, 767.62, 806.04, 813.52, 783.81, 774.52, 832.75, 845.72, 977.3199999999999, 915.97, 856.86, 799.75, 918.24, 1016.36, 1025.55, 1104.13, 1167.26, 1173.03, 1184.8899999999999, 1262.73, 1142.08, 1053.77, 908.1700000000001, 888.54, 956.36, 1040.17, 1182.27, 1240.61, 1187.0700000000002, 1279.4099999999999, 1376.66, 1602.06, 1847.22, 2126.73, 2276.54, 2240.67, 1913.1399999999999, 1881.58, 1958.96, 1968.94, 2138.2599999999998, 2316.67, 2402.52, 2493.83, 2462.55, 2629.49, 2686.89, 2734.27, 2723.52, 2886.86, 2948.02, 3026.36, 3201.17, 3328.81, 3503.84, 3715.98, 3938.47, 4045.5099999999998, 4232.24, 4350.31, 4342.299999999999, 4489.6900000000005, 4743.66, 5016.78, 4985.19, 4926.44, 5192.79, 5478.82, 5754.2, 5917.74, 5899.900000000001, 6048.6, 5919.9, 6138.7]\n"
     ]
    },
    {
     "data": {
      "text/plain": [
       "<Axes: xlabel='year'>"
      ]
     },
     "execution_count": 24,
     "metadata": {},
     "output_type": "execute_result"
    },
    {
     "data": {
      "text/plain": [
       "<Figure size 640x480 with 1 Axes>"
      ],
      "image/png": "[encoded data removed]"
     },
     "metadata": {},
     "output_type": "display_data"
    }
   ],
   "execution_count": 24
  },
  {
   "metadata": {
    "ExecuteTime": {
     "end_time": "2024-11-12T20:49:02.739416Z",
     "start_time": "2024-11-12T20:48:57.437618Z"
    }
   },
   "cell_type": "code",
   "source": [
    "a = pd.read_csv(\"~/Downloads/MetObjects.csv\", low_memory=False)\n",
    "\n",
    "print(a)\n",
    "\n",
    "\n",
    "#import cv2\n",
    "\n",
    "import matplotlib.pylab as plt\n",
    "import numpy as np\n",
    "import PIL.Image as Image\n",
    "import PIL.ImageDraw as ImageDraw\n",
    "import PIL.ImageFont as ImageFont\n",
    "import PIL.ImageEnhance as ImageEnhance\n",
    "import PIL.ImageFilter as ImageFilter\n",
    "\n",
    "import PIL.Image\n",
    "import urllib\n",
    "import urllib.request\n",
    "\n",
    "#plt.imread(\"https://substackcdn.com/image/fetch/f_auto,q_auto:good,fl_progressive:steep/https%3A%2F%2Fsubstack-post-media.s3.amazonaws.com%2Fpublic%2Fimages%2F1f7916c1-7db8-4c8b-93b0-fd0c1c264528_1536x1024.png\")"
   ],
   "id": "ca14bde177186444",
   "outputs": [
    {
     "name": "stdout",
     "output_type": "stream",
     "text": [
      "       Object Number  Is Highlight  Is Timeline Work  Is Public Domain  \\\n",
      "0         1979.486.1         False             False             False   \n",
      "1         1980.264.5         False             False             False   \n",
      "2           67.265.9         False             False             False   \n",
      "3          67.265.10         False             False             False   \n",
      "4          67.265.11         False             False             False   \n",
      "...              ...           ...               ...               ...   \n",
      "484951    55.621.134         False             False             False   \n",
      "484952      1977.646         False             False             False   \n",
      "484953       33.40.1         False             False             False   \n",
      "484954     170.1 C42          True             False             False   \n",
      "484955     17.3.3457         False             False             False   \n",
      "\n",
      "        Object ID Gallery Number           Department AccessionYear  \\\n",
      "0               1            NaN    The American Wing          1979   \n",
      "1               2            NaN    The American Wing          1980   \n",
      "2               3            NaN    The American Wing          1967   \n",
      "3               4            NaN    The American Wing          1967   \n",
      "4               5            NaN    The American Wing          1967   \n",
      "...           ...            ...                  ...           ...   \n",
      "484951     900605            NaN  Drawings and Prints          1955   \n",
      "484952     900606            NaN  Drawings and Prints          1977   \n",
      "484953     900633            NaN  Drawings and Prints          1933   \n",
      "484954     900717            NaN        The Libraries           NaN   \n",
      "484955     900748            NaN  Drawings and Prints          1917   \n",
      "\n",
      "       Object Name                                              Title  ...  \\\n",
      "0             Coin                       One-dollar Liberty Head Coin  ...   \n",
      "1             Coin                       Ten-dollar Liberty Head Coin  ...   \n",
      "2             Coin                         Two-and-a-Half Dollar Coin  ...   \n",
      "3             Coin                         Two-and-a-Half Dollar Coin  ...   \n",
      "4             Coin                         Two-and-a-Half Dollar Coin  ...   \n",
      "...            ...                                                ...  ...   \n",
      "484951       Print                                       Holiday Card  ...   \n",
      "484952       Print                                     Brooklyn Local  ...   \n",
      "484953       Print                                Yesterday and Today  ...   \n",
      "484954         NaN  De la loi du contraste simultané des couleurs,...  ...   \n",
      "484955       Print  Madison Square - Fifth Avenue and Broadway at ...  ...   \n",
      "\n",
      "       River Classification Rights and Reproduction  \\\n",
      "0        NaN            NaN                     NaN   \n",
      "1        NaN            NaN                     NaN   \n",
      "2        NaN            NaN                     NaN   \n",
      "3        NaN            NaN                     NaN   \n",
      "4        NaN            NaN                     NaN   \n",
      "...      ...            ...                     ...   \n",
      "484951   NaN         Prints                     NaN   \n",
      "484952   NaN         Prints                     NaN   \n",
      "484953   NaN         Prints                     NaN   \n",
      "484954   NaN            NaN                     NaN   \n",
      "484955   NaN         Prints                     NaN   \n",
      "\n",
      "                                            Link Resource Object Wikidata URL  \\\n",
      "0        http://www.metmuseum.org/art/collection/search/1                 NaN   \n",
      "1        http://www.metmuseum.org/art/collection/search/2                 NaN   \n",
      "2        http://www.metmuseum.org/art/collection/search/3                 NaN   \n",
      "3        http://www.metmuseum.org/art/collection/search/4                 NaN   \n",
      "4        http://www.metmuseum.org/art/collection/search/5                 NaN   \n",
      "...                                                   ...                 ...   \n",
      "484951  http://www.metmuseum.org/art/collection/search...                 NaN   \n",
      "484952  http://www.metmuseum.org/art/collection/search...                 NaN   \n",
      "484953  http://www.metmuseum.org/art/collection/search...                 NaN   \n",
      "484954  http://www.metmuseum.org/art/collection/search...                 NaN   \n",
      "484955  http://www.metmuseum.org/art/collection/search...                 NaN   \n",
      "\n",
      "       Metadata Date                                Repository Tags  \\\n",
      "0                NaN  Metropolitan Museum of Art, New York, NY  NaN   \n",
      "1                NaN  Metropolitan Museum of Art, New York, NY  NaN   \n",
      "2                NaN  Metropolitan Museum of Art, New York, NY  NaN   \n",
      "3                NaN  Metropolitan Museum of Art, New York, NY  NaN   \n",
      "4                NaN  Metropolitan Museum of Art, New York, NY  NaN   \n",
      "...              ...                                       ...  ...   \n",
      "484951           NaN  Metropolitan Museum of Art, New York, NY  NaN   \n",
      "484952           NaN  Metropolitan Museum of Art, New York, NY  NaN   \n",
      "484953           NaN  Metropolitan Museum of Art, New York, NY  NaN   \n",
      "484954           NaN  Metropolitan Museum of Art, New York, NY  NaN   \n",
      "484955           NaN  Metropolitan Museum of Art, New York, NY  NaN   \n",
      "\n",
      "       Tags AAT URL Tags Wikidata URL  \n",
      "0               NaN               NaN  \n",
      "1               NaN               NaN  \n",
      "2               NaN               NaN  \n",
      "3               NaN               NaN  \n",
      "4               NaN               NaN  \n",
      "...             ...               ...  \n",
      "484951          NaN               NaN  \n",
      "484952          NaN               NaN  \n",
      "484953          NaN               NaN  \n",
      "484954          NaN               NaN  \n",
      "484955          NaN               NaN  \n",
      "\n",
      "[484956 rows x 54 columns]\n"
     ]
    }
   ],
   "execution_count": 24
  },
  {
   "metadata": {},
   "cell_type": "code",
   "outputs": [],
   "execution_count": null,
   "source": "",
   "id": "c0074aeb1edec69d"
  }
 ],
 "metadata": {
  "kernelspec": {
   "display_name": "Python 3",
   "language": "python",
   "name": "python3"
  },
  "language_info": {
   "codemirror_mode": {
    "name": "ipython",
    "version": 2
   },
   "file_extension": ".py",
   "mimetype": "text/x-python",
   "name": "python",
   "nbconvert_exporter": "python",
   "pygments_lexer": "ipython2",
   "version": "2.7.6"
  }
 },
 "nbformat": 4,
 "nbformat_minor": 5
}
